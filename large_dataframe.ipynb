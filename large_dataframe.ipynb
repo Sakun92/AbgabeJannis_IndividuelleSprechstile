{
 "cells": [
  {
   "cell_type": "markdown",
   "metadata": {},
   "source": [
    "Importiert unterstützende Libraries in das Jupyter Notebook und legt Pfad für MLD fest."
   ]
  },
  {
   "cell_type": "code",
   "execution_count": 2,
   "metadata": {},
   "outputs": [],
   "source": [
    "import os\n",
    "import glob\n",
    "from pathlib import Path\n",
    "import numpy as np\n",
    "import pandas as pd\n",
    "import shutil\n",
    "import sys\n",
    "sys.path.append(\"./mld/src\")\n",
    "import midlevel_descriptors as mld"
   ]
  },
  {
   "cell_type": "markdown",
   "metadata": {},
   "source": [
    "Legt die Arbeitsumgebung fest - wo die Dateien gesucht bzw. abgelegt werden sollen. Hier ist es wichtig, da wir dort unsere Pickle-Dateien aus dem add-annotations-Notebook reingelegt haben, damit wir diese hier vergleichen können."
   ]
  },
  {
   "cell_type": "code",
   "execution_count": 3,
   "metadata": {},
   "outputs": [],
   "source": [
    "in_directory = 'Annotations/'"
   ]
  },
  {
   "cell_type": "markdown",
   "metadata": {},
   "source": [
    "Durch diesen Befehl werden alle WAV-Files in ein Directory kopiert um sich die Arbeit zu erleichtern. Aus dem Ordner 'processed' in den Ordner 'all_wavs'. Wichtig ist hierbei der rglob-Befehl, welchen wir mit 'from pathlib import Path' importiert haben. Somit funktioniert es mit allen WAV-Files. Auch wenn dies natürlich mit anderen Befehlen ebenso funktioniert, sucht der rglob-Befehl alle WAV-Files auch in den Unterordnern und ist somit sehr exakt. Somit werden alle WAV-Files mit dem 'shutil.copy2'-Befehl in das Zielverzeichnis kopiert."
   ]
  },
  {
   "cell_type": "code",
   "execution_count": 4,
   "metadata": {},
   "outputs": [],
   "source": [
    "# copy all wav files to one directory\n",
    "wav_sources = 'processed/'\n",
    "wav_target = 'all_wavs'\n",
    "for file in Path(wav_sources).rglob('*.wav'):\n",
    "    if os.path.isfile(file):\n",
    "        shutil.copy2(file, wav_target)"
   ]
  },
  {
   "cell_type": "markdown",
   "metadata": {},
   "source": [
    "Bei der Pickle-Datei von Frau Orschulik gab es immer wieder Errors. Vermutlich liegt es daran, dass Frau Orschulik eine andere Major-Version - zumindest aber eine andere Version von Panda hat. Dementsprechend kann man davon ausgehen, dass es Inkompatibilitätsprobleme geben könnte und dementsprechend der Code anderswo nicht funktionieren kann.\n",
    "Dementsprechend wurde hier der Original-Ordner von Frau Orschulik gewählt (ihre Pickle-Datei) und der Code wurde nochmal separat für diese Annotation geschrieben und schlussendlich in eine neue Pickle-Datei geschrieben."
   ]
  },
  {
   "cell_type": "code",
   "execution_count": 5,
   "metadata": {},
   "outputs": [
    {
     "data": {
      "text/html": [
       "<div>\n",
       "<style scoped>\n",
       "    .dataframe tbody tr th:only-of-type {\n",
       "        vertical-align: middle;\n",
       "    }\n",
       "\n",
       "    .dataframe tbody tr th {\n",
       "        vertical-align: top;\n",
       "    }\n",
       "\n",
       "    .dataframe thead th {\n",
       "        text-align: right;\n",
       "    }\n",
       "</style>\n",
       "<table border=\"1\" class=\"dataframe\">\n",
       "  <thead>\n",
       "    <tr style=\"text-align: right;\">\n",
       "      <th></th>\n",
       "      <th>id</th>\n",
       "      <th>gender</th>\n",
       "      <th>speakertype</th>\n",
       "      <th>age</th>\n",
       "      <th>lang</th>\n",
       "      <th>speechtype</th>\n",
       "      <th>source</th>\n",
       "    </tr>\n",
       "    <tr>\n",
       "      <th>segmented_file</th>\n",
       "      <th></th>\n",
       "      <th></th>\n",
       "      <th></th>\n",
       "      <th></th>\n",
       "      <th></th>\n",
       "      <th></th>\n",
       "      <th></th>\n",
       "    </tr>\n",
       "  </thead>\n",
       "  <tbody>\n",
       "    <tr>\n",
       "      <th>all_wavs/Q-Stimme_Orschulik_seg_00000000.wav</th>\n",
       "      <td>Q-Stimme</td>\n",
       "      <td>divers</td>\n",
       "      <td>synthetic</td>\n",
       "      <td>35</td>\n",
       "      <td>en-GB</td>\n",
       "      <td>synthetic</td>\n",
       "      <td>https://www.genderlessvoice.com/</td>\n",
       "    </tr>\n",
       "    <tr>\n",
       "      <th>all_wavs/Q-Stimme_Orschulik_seg_00000001.wav</th>\n",
       "      <td>Q-Stimme</td>\n",
       "      <td>divers</td>\n",
       "      <td>synthetic</td>\n",
       "      <td>35</td>\n",
       "      <td>en-GB</td>\n",
       "      <td>synthetic</td>\n",
       "      <td>https://www.genderlessvoice.com/</td>\n",
       "    </tr>\n",
       "    <tr>\n",
       "      <th>all_wavs/Q-Stimme_Orschulik_seg_00000002.wav</th>\n",
       "      <td>Q-Stimme</td>\n",
       "      <td>divers</td>\n",
       "      <td>synthetic</td>\n",
       "      <td>35</td>\n",
       "      <td>en-GB</td>\n",
       "      <td>synthetic</td>\n",
       "      <td>https://www.genderlessvoice.com/</td>\n",
       "    </tr>\n",
       "    <tr>\n",
       "      <th>all_wavs/Q-Stimme_Orschulik_seg_00000003.wav</th>\n",
       "      <td>Q-Stimme</td>\n",
       "      <td>divers</td>\n",
       "      <td>synthetic</td>\n",
       "      <td>35</td>\n",
       "      <td>en-GB</td>\n",
       "      <td>synthetic</td>\n",
       "      <td>https://www.genderlessvoice.com/</td>\n",
       "    </tr>\n",
       "    <tr>\n",
       "      <th>all_wavs/Q-Stimme_Orschulik_seg_00000004.wav</th>\n",
       "      <td>Q-Stimme</td>\n",
       "      <td>divers</td>\n",
       "      <td>synthetic</td>\n",
       "      <td>35</td>\n",
       "      <td>en-GB</td>\n",
       "      <td>synthetic</td>\n",
       "      <td>https://www.genderlessvoice.com/</td>\n",
       "    </tr>\n",
       "  </tbody>\n",
       "</table>\n",
       "</div>"
      ],
      "text/plain": [
       "                                                    id  gender speakertype  \\\n",
       "segmented_file                                                               \n",
       "all_wavs/Q-Stimme_Orschulik_seg_00000000.wav  Q-Stimme  divers   synthetic   \n",
       "all_wavs/Q-Stimme_Orschulik_seg_00000001.wav  Q-Stimme  divers   synthetic   \n",
       "all_wavs/Q-Stimme_Orschulik_seg_00000002.wav  Q-Stimme  divers   synthetic   \n",
       "all_wavs/Q-Stimme_Orschulik_seg_00000003.wav  Q-Stimme  divers   synthetic   \n",
       "all_wavs/Q-Stimme_Orschulik_seg_00000004.wav  Q-Stimme  divers   synthetic   \n",
       "\n",
       "                                              age   lang speechtype  \\\n",
       "segmented_file                                                        \n",
       "all_wavs/Q-Stimme_Orschulik_seg_00000000.wav   35  en-GB  synthetic   \n",
       "all_wavs/Q-Stimme_Orschulik_seg_00000001.wav   35  en-GB  synthetic   \n",
       "all_wavs/Q-Stimme_Orschulik_seg_00000002.wav   35  en-GB  synthetic   \n",
       "all_wavs/Q-Stimme_Orschulik_seg_00000003.wav   35  en-GB  synthetic   \n",
       "all_wavs/Q-Stimme_Orschulik_seg_00000004.wav   35  en-GB  synthetic   \n",
       "\n",
       "                                                                        source  \n",
       "segmented_file                                                                  \n",
       "all_wavs/Q-Stimme_Orschulik_seg_00000000.wav  https://www.genderlessvoice.com/  \n",
       "all_wavs/Q-Stimme_Orschulik_seg_00000001.wav  https://www.genderlessvoice.com/  \n",
       "all_wavs/Q-Stimme_Orschulik_seg_00000002.wav  https://www.genderlessvoice.com/  \n",
       "all_wavs/Q-Stimme_Orschulik_seg_00000003.wav  https://www.genderlessvoice.com/  \n",
       "all_wavs/Q-Stimme_Orschulik_seg_00000004.wav  https://www.genderlessvoice.com/  "
      ]
     },
     "execution_count": 5,
     "metadata": {},
     "output_type": "execute_result"
    }
   ],
   "source": [
    "# Fix pandas error with Orschulik df\n",
    "df_q = pd.read_pickle('./processed/Orschulik/Orschulik_mdf.pkl')\n",
    "def re_arrange_df(df, audio_dir):\n",
    "    df['segmented_file'] = df['segmented_file'].apply(lambda x: audio_dir+os.path.basename(x))\n",
    "    df = df.set_index(df.segmented_file)\n",
    "    df = df.drop(columns=['segmented_file', 'channel'])\n",
    "    return df\n",
    "df_q = re_arrange_df(df_q, 'all_wavs/')\n",
    "\n",
    "ad ={'id':'Q-Stimme', \n",
    "     'gender': 'divers', \n",
    "     'speakertype': 'synthetic',\n",
    "     'age': 35, \n",
    "     'lang':'en-GB', \n",
    "     'speechtype':'synthetic',\n",
    "     'source':'https://www.genderlessvoice.com/'}\n",
    "for k in ad:\n",
    "    df_q[k] = ad[k]\n",
    "df_q.to_pickle('Annotations/q.pkl')\n",
    "\n",
    "df_q.head()"
   ]
  },
  {
   "cell_type": "markdown",
   "metadata": {},
   "source": [
    "Bei Frau Wannenmacher stand ein Apt vor dem eigentlichen Dateinamen. Somit gab es vorher eine Fehlermeldung.\n",
    "Durch diesen Befehl wurde die Pickle-Datei geladen. Dann wurde anschließend der Index geändert. Schlussendlich wurde die pickle-Datei dann wieder zurück geschrieben bzw. überschrieben. Die 3: im lambda-Befehl steht dafür, dass erst ab dem vierten Zeichen der eigentliche Dateinamen los geht. Es werden also vorher drei Zeichen übersprungen."
   ]
  },
  {
   "cell_type": "code",
   "execution_count": 6,
   "metadata": {},
   "outputs": [],
   "source": [
    "# Fix file path with Wannenmacher df\n",
    "df_wannenmacher = pd.read_pickle('./Annotations/Apt.pkl')\n",
    "df_wannenmacher.head()\n",
    "df_wannenmacher.index = df_wannenmacher.index.to_series().apply(lambda x: x[3:])\n",
    "df_wannenmacher.to_pickle('./Annotations/Apt.pkl')"
   ]
  },
  {
   "cell_type": "markdown",
   "metadata": {},
   "source": [
    "Mit diesem Befehl wird der Datenframe erzeugt. Dieser sollte einfach durchlaufen. Durch die Fehlermeldungen bei Frau Orschulik und Frau Wannenmacher läuft dieser allerdings nicht durch. Deshalb wurden die Code-Lines, welche Frau Wannenmacher und Frau Orschulik betreffen, nachträglich vor diesen Befehl verschoben.\n",
    "Dataframe wird initialisiert. Es wird festgelegt, wo die Audio-Dateien sich befinden.\n",
    "\n",
    "Wichtig: Einige Teilnehmende hatten eine column namens 'sex' drin. Prinzipiell sollte diese aber 'gender' heißen. Dementsprechend wurden mit dem try / except-Befehl falls  die 'sex'-Spalte vorkam, die Inhalte in die 'gender'-Spalte kopiert und abschließend die 'sex'-Spalte gelöscht."
   ]
  },
  {
   "cell_type": "code",
   "execution_count": 7,
   "metadata": {},
   "outputs": [
    {
     "name": "stdout",
     "output_type": "stream",
     "text": [
      "Annotations\\alexa.pkl\n",
      "Annotations\\amthor.pkl\n",
      "Annotations\\Apt.pkl\n",
      "Annotations\\bartsch.pkl\n",
      "Annotations\\Drosten.pkl\n",
      "Annotations\\geliebte_anno.pkl\n",
      "Annotations\\king.pkl\n",
      "Annotations\\obama.pkl\n",
      "Annotations\\q.pkl\n",
      "Annotations\\schumacher.pkl\n",
      "Annotations\\thunberg.pkl\n"
     ]
    }
   ],
   "source": [
    "df = pd.DataFrame()\n",
    "audio_directory = 'all_wavs/'\n",
    "for file in glob.glob(in_directory+'*.pkl'):\n",
    "    print(file)\n",
    "    df_tmp = pd.read_pickle(file)\n",
    "    try:\n",
    "        df_tmp['gender'] = df_tmp.sex\n",
    "        df_tmp = df_tmp.drop(columns=['sex'])\n",
    "    except (KeyError, AttributeError) as e:\n",
    "        pass\n",
    "    df_tmp.index = df_tmp.index.to_series().apply(lambda x: audio_directory+os.path.basename(x))\n",
    "    df = df.append(df_tmp)"
   ]
  },
  {
   "cell_type": "markdown",
   "metadata": {},
   "source": [
    "Gibt die 'uniquen' ID-Werte aus. In diesem Fall dann deren Datei-Namen. In unserem Fall die Namen der Sprecher/innen.\n",
    "Auch ein möglicher Befehl hierzu wäre: df['id'].unique()"
   ]
  },
  {
   "cell_type": "code",
   "execution_count": 8,
   "metadata": {},
   "outputs": [
    {
     "data": {
      "text/plain": [
       "array(['alexa', 'philipp.amthor', 'Daniel_Apt', 'dietmar_bartsch',\n",
       "       'Drosten', 'hildegard_knef', 'martin_luther_king',\n",
       "       'michelle_obama', 'Q-Stimme', 'hajo_schumacher', 'greta_thunberg'],\n",
       "      dtype=object)"
      ]
     },
     "execution_count": 8,
     "metadata": {},
     "output_type": "execute_result"
    }
   ],
   "source": [
    "df.id.unique()"
   ]
  },
  {
   "cell_type": "markdown",
   "metadata": {},
   "source": [
    "Import mittels IPython ein Audio-Segment der gewählten Rede von Frau Haubenreiser."
   ]
  },
  {
   "cell_type": "code",
   "execution_count": 9,
   "metadata": {},
   "outputs": [
    {
     "data": {
      "text/html": [
       "\n",
       "                <audio  controls=\"controls\" >\n",
       "                    <source src=\"data:audio/wav;base64,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\" type=\"audio/wav\" />\n",
       "                    Your browser does not support the audio element.\n",
       "                </audio>\n",
       "              "
      ],
      "text/plain": [
       "<IPython.lib.display.Audio object>"
      ]
     },
     "execution_count": 9,
     "metadata": {},
     "output_type": "execute_result"
    }
   ],
   "source": [
    "import IPython\n",
    "IPython.display.Audio('all_wavs/Die-Geliebte_Haubereiser_seg_00000039.wav')"
   ]
  },
  {
   "cell_type": "markdown",
   "metadata": {},
   "source": [
    "Gibt Zeilen- und Spaltenanzahl der gelesenen Datei aus."
   ]
  },
  {
   "cell_type": "code",
   "execution_count": 10,
   "metadata": {},
   "outputs": [
    {
     "data": {
      "text/plain": [
       "(794, 7)"
      ]
     },
     "execution_count": 10,
     "metadata": {},
     "output_type": "execute_result"
    }
   ],
   "source": [
    "df.shape"
   ]
  },
  {
   "cell_type": "markdown",
   "metadata": {},
   "source": [
    "Zeigt die erste Zeile des eingelesenen Dataframes an. Die Zahl in Klammern variiert die Zeilenanzahl."
   ]
  },
  {
   "cell_type": "code",
   "execution_count": 11,
   "metadata": {},
   "outputs": [
    {
     "data": {
      "text/html": [
       "<div>\n",
       "<style scoped>\n",
       "    .dataframe tbody tr th:only-of-type {\n",
       "        vertical-align: middle;\n",
       "    }\n",
       "\n",
       "    .dataframe tbody tr th {\n",
       "        vertical-align: top;\n",
       "    }\n",
       "\n",
       "    .dataframe thead th {\n",
       "        text-align: right;\n",
       "    }\n",
       "</style>\n",
       "<table border=\"1\" class=\"dataframe\">\n",
       "  <thead>\n",
       "    <tr style=\"text-align: right;\">\n",
       "      <th></th>\n",
       "      <th>id</th>\n",
       "      <th>age</th>\n",
       "      <th>speechtype</th>\n",
       "      <th>lang</th>\n",
       "      <th>source</th>\n",
       "      <th>speakertype</th>\n",
       "      <th>gender</th>\n",
       "    </tr>\n",
       "    <tr>\n",
       "      <th>segmented_file</th>\n",
       "      <th></th>\n",
       "      <th></th>\n",
       "      <th></th>\n",
       "      <th></th>\n",
       "      <th></th>\n",
       "      <th></th>\n",
       "      <th></th>\n",
       "    </tr>\n",
       "  </thead>\n",
       "  <tbody>\n",
       "    <tr>\n",
       "      <th>all_wavs/Alexa_Seyfried_seg_00000000.wav</th>\n",
       "      <td>alexa</td>\n",
       "      <td>30</td>\n",
       "      <td>synthetic</td>\n",
       "      <td>de</td>\n",
       "      <td>https://play.google.com/store/apps/details?id=...</td>\n",
       "      <td>synthetic</td>\n",
       "      <td>female</td>\n",
       "    </tr>\n",
       "  </tbody>\n",
       "</table>\n",
       "</div>"
      ],
      "text/plain": [
       "                                             id age speechtype lang  \\\n",
       "segmented_file                                                        \n",
       "all_wavs/Alexa_Seyfried_seg_00000000.wav  alexa  30  synthetic   de   \n",
       "\n",
       "                                                                                     source  \\\n",
       "segmented_file                                                                                \n",
       "all_wavs/Alexa_Seyfried_seg_00000000.wav  https://play.google.com/store/apps/details?id=...   \n",
       "\n",
       "                                         speakertype  gender  \n",
       "segmented_file                                                \n",
       "all_wavs/Alexa_Seyfried_seg_00000000.wav   synthetic  female  "
      ]
     },
     "execution_count": 11,
     "metadata": {},
     "output_type": "execute_result"
    }
   ],
   "source": [
    "df.head(1)"
   ]
  },
  {
   "cell_type": "markdown",
   "metadata": {},
   "source": [
    "Hier werden die uniquen Gender angezeigt."
   ]
  },
  {
   "cell_type": "code",
   "execution_count": 12,
   "metadata": {},
   "outputs": [
    {
     "data": {
      "text/plain": [
       "array(['female', 'male', 'divers'], dtype=object)"
      ]
     },
     "execution_count": 12,
     "metadata": {},
     "output_type": "execute_result"
    }
   ],
   "source": [
    "df.gender.unique()"
   ]
  },
  {
   "cell_type": "markdown",
   "metadata": {},
   "source": [
    "Extrahierung der Mid-Level-Descriptors."
   ]
  },
  {
   "cell_type": "code",
   "execution_count": 13,
   "metadata": {},
   "outputs": [],
   "source": [
    "fex_mld = mld.MLD()\n",
    "mld_df = fex_mld.extract_from_index(index=df, cache_path='./tmp/alldf_mld_cache/cache')"
   ]
  },
  {
   "cell_type": "markdown",
   "metadata": {},
   "source": [
    "Grafische Visualisierung der Speechtypes und anschließend der Speakertypes als Kuchendiagramm."
   ]
  },
  {
   "cell_type": "code",
   "execution_count": 14,
   "metadata": {},
   "outputs": [
    {
     "data": {
      "text/plain": [
       "<AxesSubplot:ylabel='speechtype'>"
      ]
     },
     "execution_count": 14,
     "metadata": {},
     "output_type": "execute_result"
    },
    {
     "data": {
      "image/png": "[encoded data removed]",
      "text/plain": [
       "<Figure size 432x288 with 1 Axes>"
      ]
     },
     "metadata": {},
     "output_type": "display_data"
    }
   ],
   "source": [
    "df.speechtype.value_counts().plot(kind='pie')"
   ]
  },
  {
   "cell_type": "code",
   "execution_count": 15,
   "metadata": {},
   "outputs": [
    {
     "data": {
      "text/plain": [
       "<AxesSubplot:ylabel='speakertype'>"
      ]
     },
     "execution_count": 15,
     "metadata": {},
     "output_type": "execute_result"
    },
    {
     "data": {
      "image/png": "[encoded data removed]",
      "text/plain": [
       "<Figure size 432x288 with 1 Axes>"
      ]
     },
     "metadata": {},
     "output_type": "display_data"
    }
   ],
   "source": [
    "df.speakertype.value_counts().plot(kind='pie')"
   ]
  },
  {
   "cell_type": "markdown",
   "metadata": {},
   "source": [
    "Mit dieser Funktion werden zwei neue Dataframes erstellt. df_preach und df_debate. Diese wurden damit gefiltert, dass im df_preach nur Daten mit dem df.speechtype 'preaching' vor kommen und in dem df_debate nur Daten mit dem df.speechtype 'debate'."
   ]
  },
  {
   "cell_type": "code",
   "execution_count": 16,
   "metadata": {},
   "outputs": [],
   "source": [
    "df_preach = df[df.speechtype=='preaching']\n",
    "df_debate = df[df.speechtype=='debate']"
   ]
  },
  {
   "cell_type": "markdown",
   "metadata": {},
   "source": [
    "Diese Funktion gibt die Features aus, welche sich ausschließlich auf die jeweilig oben genannten Dataframes beziehen. Also nur auf diese mit dem df.speechtype 'preaching' und / oder diese mit dem df.speechtype 'debate'."
   ]
  },
  {
   "cell_type": "code",
   "execution_count": 17,
   "metadata": {},
   "outputs": [],
   "source": [
    "def get_feats(df):\n",
    "    return mld_df[mld_df.index.isin(df.index)]\n",
    "feats_preach = get_feats(df_preach)\n",
    "feats_debate = get_feats(df_debate)"
   ]
  },
  {
   "cell_type": "markdown",
   "metadata": {},
   "source": [
    "Gibt Zeilen- und Spaltenanzahl der gelesenen Datei aus."
   ]
  },
  {
   "cell_type": "code",
   "execution_count": 18,
   "metadata": {},
   "outputs": [
    {
     "data": {
      "text/plain": [
       "(77, 580)"
      ]
     },
     "execution_count": 18,
     "metadata": {},
     "output_type": "execute_result"
    }
   ],
   "source": [
    "feats_preach.shape"
   ]
  },
  {
   "cell_type": "markdown",
   "metadata": {},
   "source": [
    "Plottet die Speechtypes 'preach' und 'debate' nach ihrer Sprechrate als Boxplot. Als Ergebnis können wir interpretieren, dass die Sprechrate beim Debattieren höher bzw. schneller ist als beim Predigen."
   ]
  },
  {
   "cell_type": "code",
   "execution_count": 19,
   "metadata": {},
   "outputs": [
    {
     "data": {
      "text/plain": [
       "<AxesSubplot:>"
      ]
     },
     "execution_count": 19,
     "metadata": {},
     "output_type": "execute_result"
    },
    {
     "data": {
      "image/png": "[encoded data removed]",
      "text/plain": [
       "<Figure size 432x288 with 1 Axes>"
      ]
     },
     "metadata": {
      "needs_background": "light"
     },
     "output_type": "display_data"
    }
   ],
   "source": [
    "pd.concat([feats_preach['hld_sylRate'].rename('preach'), \n",
    "           feats_debate['hld_sylRate'].rename('debate')], axis=1).boxplot()"
   ]
  },
  {
   "cell_type": "markdown",
   "metadata": {},
   "source": [
    "Einige grafische Repräsentationen als Eigenleistung."
   ]
  },
  {
   "cell_type": "code",
   "execution_count": 20,
   "metadata": {},
   "outputs": [
    {
     "data": {
      "text/plain": [
       "<AxesSubplot:>"
      ]
     },
     "execution_count": 20,
     "metadata": {},
     "output_type": "execute_result"
    },
    {
     "data": {
      "image/png": "[encoded data removed]",
      "text/plain": [
       "<Figure size 432x288 with 1 Axes>"
      ]
     },
     "metadata": {
      "needs_background": "light"
     },
     "output_type": "display_data"
    }
   ],
   "source": [
    "df.age.value_counts().plot(kind='barh')"
   ]
  },
  {
   "cell_type": "code",
   "execution_count": 21,
   "metadata": {},
   "outputs": [
    {
     "data": {
      "text/plain": [
       "<AxesSubplot:xlabel='speechtype', ylabel='gender'>"
      ]
     },
     "execution_count": 21,
     "metadata": {},
     "output_type": "execute_result"
    },
    {
     "data": {
      "image/png": "[encoded data removed]",
      "text/plain": [
       "<Figure size 432x288 with 1 Axes>"
      ]
     },
     "metadata": {
      "needs_background": "light"
     },
     "output_type": "display_data"
    }
   ],
   "source": [
    "df.plot.scatter(y='gender', x='speechtype', c='red')"
   ]
  },
  {
   "cell_type": "code",
   "execution_count": 22,
   "metadata": {},
   "outputs": [],
   "source": [
    "df_interview = df[df.speechtype=='interview']\n",
    "df_personal = df[df.speechtype=='personal']"
   ]
  },
  {
   "cell_type": "code",
   "execution_count": 23,
   "metadata": {},
   "outputs": [],
   "source": [
    "def get_feats(df):\n",
    "    return mld_df[mld_df.index.isin(df.index)]\n",
    "feats_preach = get_feats(df_interview)\n",
    "feats_debate = get_feats(df_personal)"
   ]
  },
  {
   "cell_type": "code",
   "execution_count": 24,
   "metadata": {},
   "outputs": [
    {
     "data": {
      "text/plain": [
       "<AxesSubplot:>"
      ]
     },
     "execution_count": 24,
     "metadata": {},
     "output_type": "execute_result"
    },
    {
     "data": {
      "image/png": "[encoded data removed]",
      "text/plain": [
       "<Figure size 432x288 with 1 Axes>"
      ]
     },
     "metadata": {
      "needs_background": "light"
     },
     "output_type": "display_data"
    }
   ],
   "source": [
    "pd.concat([feats_preach['lld_voicingFinalUnclipped_sma_q_kurtosis'].rename('interview'), \n",
    "           feats_debate['lld_voicingFinalUnclipped_sma_q_kurtosis'].rename('personal')], axis=1).boxplot()"
   ]
  }
 ],
 "metadata": {
  "kernelspec": {
   "display_name": "Python 3",
   "language": "python",
   "name": "python3"
  },
  "language_info": {
   "codemirror_mode": {
    "name": "ipython",
    "version": 3
   },
   "file_extension": ".py",
   "mimetype": "text/x-python",
   "name": "python",
   "nbconvert_exporter": "python",
   "pygments_lexer": "ipython3",
   "version": "3.9.6"
  }
 },
 "nbformat": 4,
 "nbformat_minor": 4
}
